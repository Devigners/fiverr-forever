{
 "cells": [
  {
   "attachments": {},
   "cell_type": "markdown",
   "metadata": {},
   "source": [
    "## If you want your gig to appear in a specific search query, this is what you need:"
   ]
  },
  {
   "cell_type": "code",
   "execution_count": 2,
   "metadata": {},
   "outputs": [],
   "source": [
    "import json\n",
    "\n",
    "with open('data_extended.json') as json_file:\n",
    "    data = json.load(json_file)"
   ]
  },
  {
   "attachments": {},
   "cell_type": "markdown",
   "metadata": {},
   "source": [
    "To make a gig appear in a particular search, you should look-a-like with top gigs of that search query."
   ]
  },
  {
   "attachments": {},
   "cell_type": "markdown",
   "metadata": {},
   "source": [
    "- Tags\n",
    "- Category\n",
    "- Meta"
   ]
  },
  {
   "attachments": {},
   "cell_type": "markdown",
   "metadata": {},
   "source": [
    "### Tags"
   ]
  },
  {
   "cell_type": "code",
   "execution_count": 3,
   "metadata": {},
   "outputs": [],
   "source": [
    "# most abundant tags\n",
    "tag_dict = {'id':[], 'title':[], 'tags':[]}\n",
    "\n",
    "for gig_id in data.keys():\n",
    "    if(data[gig_id]['seller']['name'] != 'saifullahkhaki'):\n",
    "        tag_dict['id'].append(gig_id)\n",
    "        tag_dict['title'].append(data[gig_id]['title'])\n",
    "        tag_dict['tags'].append(data[gig_id]['tags'])\n",
    "    else:\n",
    "        break\n",
    "    "
   ]
  },
  {
   "cell_type": "code",
   "execution_count": 4,
   "metadata": {},
   "outputs": [
    {
     "data": {
      "text/html": [
       "<div>\n",
       "<style scoped>\n",
       "    .dataframe tbody tr th:only-of-type {\n",
       "        vertical-align: middle;\n",
       "    }\n",
       "\n",
       "    .dataframe tbody tr th {\n",
       "        vertical-align: top;\n",
       "    }\n",
       "\n",
       "    .dataframe thead th {\n",
       "        text-align: right;\n",
       "    }\n",
       "</style>\n",
       "<table border=\"1\" class=\"dataframe\">\n",
       "  <thead>\n",
       "    <tr style=\"text-align: right;\">\n",
       "      <th></th>\n",
       "      <th>id</th>\n",
       "      <th>title</th>\n",
       "      <th>tags</th>\n",
       "    </tr>\n",
       "  </thead>\n",
       "  <tbody>\n",
       "    <tr>\n",
       "      <th>0</th>\n",
       "      <td>0</td>\n",
       "      <td>I will create a python flask api or project</td>\n",
       "      <td>[python, api, sql, crud, flask]</td>\n",
       "    </tr>\n",
       "    <tr>\n",
       "      <th>1</th>\n",
       "      <td>1</td>\n",
       "      <td>I will do django, flask, python web development</td>\n",
       "      <td>[react, django, django developer, django websi...</td>\n",
       "    </tr>\n",
       "    <tr>\n",
       "      <th>2</th>\n",
       "      <td>2</td>\n",
       "      <td>I will build data visualization dashboards usi...</td>\n",
       "      <td>[data visualization, python, plotly, web appli...</td>\n",
       "    </tr>\n",
       "    <tr>\n",
       "      <th>3</th>\n",
       "      <td>3</td>\n",
       "      <td>I will develop and deploy python web app using...</td>\n",
       "      <td>[python, react, python website, web app, flask]</td>\n",
       "    </tr>\n",
       "    <tr>\n",
       "      <th>4</th>\n",
       "      <td>4</td>\n",
       "      <td>I will develop web app dashboard with python f...</td>\n",
       "      <td>[python, api, full stack developer, programmin...</td>\n",
       "    </tr>\n",
       "    <tr>\n",
       "      <th>...</th>\n",
       "      <td>...</td>\n",
       "      <td>...</td>\n",
       "      <td>...</td>\n",
       "    </tr>\n",
       "    <tr>\n",
       "      <th>92</th>\n",
       "      <td>92</td>\n",
       "      <td>I will build backend, rest apis with python, d...</td>\n",
       "      <td>[backend, django, rest api, django developer, ...</td>\n",
       "    </tr>\n",
       "    <tr>\n",
       "      <th>93</th>\n",
       "      <td>93</td>\n",
       "      <td>I will develop web application with django and...</td>\n",
       "      <td>[python, build website, web application, djang...</td>\n",
       "    </tr>\n",
       "    <tr>\n",
       "      <th>94</th>\n",
       "      <td>94</td>\n",
       "      <td>I will develop web apps for you in django and ...</td>\n",
       "      <td>[python, website, django, flask, web development]</td>\n",
       "    </tr>\n",
       "    <tr>\n",
       "      <th>95</th>\n",
       "      <td>95</td>\n",
       "      <td>I will develop django flask web application or...</td>\n",
       "      <td>[python, api, rest, django, flask]</td>\n",
       "    </tr>\n",
       "    <tr>\n",
       "      <th>96</th>\n",
       "      <td>96</td>\n",
       "      <td>I will develop web application in django flask...</td>\n",
       "      <td>[python, build website, web application, websi...</td>\n",
       "    </tr>\n",
       "  </tbody>\n",
       "</table>\n",
       "<p>97 rows × 3 columns</p>\n",
       "</div>"
      ],
      "text/plain": [
       "    id                                              title  \\\n",
       "0    0        I will create a python flask api or project   \n",
       "1    1    I will do django, flask, python web development   \n",
       "2    2  I will build data visualization dashboards usi...   \n",
       "3    3  I will develop and deploy python web app using...   \n",
       "4    4  I will develop web app dashboard with python f...   \n",
       "..  ..                                                ...   \n",
       "92  92  I will build backend, rest apis with python, d...   \n",
       "93  93  I will develop web application with django and...   \n",
       "94  94  I will develop web apps for you in django and ...   \n",
       "95  95  I will develop django flask web application or...   \n",
       "96  96  I will develop web application in django flask...   \n",
       "\n",
       "                                                 tags  \n",
       "0                     [python, api, sql, crud, flask]  \n",
       "1   [react, django, django developer, django websi...  \n",
       "2   [data visualization, python, plotly, web appli...  \n",
       "3     [python, react, python website, web app, flask]  \n",
       "4   [python, api, full stack developer, programmin...  \n",
       "..                                                ...  \n",
       "92  [backend, django, rest api, django developer, ...  \n",
       "93  [python, build website, web application, djang...  \n",
       "94  [python, website, django, flask, web development]  \n",
       "95                 [python, api, rest, django, flask]  \n",
       "96  [python, build website, web application, websi...  \n",
       "\n",
       "[97 rows x 3 columns]"
      ]
     },
     "execution_count": 4,
     "metadata": {},
     "output_type": "execute_result"
    }
   ],
   "source": [
    "import pandas as pd\n",
    "\n",
    "df = pd.DataFrame.from_dict(tag_dict)\n",
    "df"
   ]
  },
  {
   "cell_type": "code",
   "execution_count": 5,
   "metadata": {},
   "outputs": [
    {
     "data": {
      "text/plain": [
       "python                  71\n",
       "flask                   63\n",
       "django                  46\n",
       "web application         27\n",
       "api                     15\n",
       "                        ..\n",
       "dash                     1\n",
       "ai                       1\n",
       "full stack developer     1\n",
       "deployment               1\n",
       "rest                     1\n",
       "Length: 121, dtype: int64"
      ]
     },
     "execution_count": 5,
     "metadata": {},
     "output_type": "execute_result"
    }
   ],
   "source": [
    "tags = df['tags'].apply(pd.Series).stack()\n",
    "most_used_tags = tags.value_counts()\n",
    "most_used_tags"
   ]
  },
  {
   "cell_type": "code",
   "execution_count": 6,
   "metadata": {},
   "outputs": [
    {
     "data": {
      "image/png": "[encoded data removed]",
      "text/plain": [
       "<Figure size 640x480 with 1 Axes>"
      ]
     },
     "metadata": {},
     "output_type": "display_data"
    }
   ],
   "source": [
    "import matplotlib.pyplot as plt\n",
    "most_used_tags.nlargest(10).plot.bar()\n",
    "plt.show()"
   ]
  },
  {
   "attachments": {},
   "cell_type": "markdown",
   "metadata": {},
   "source": [
    "### Categories"
   ]
  },
  {
   "cell_type": "code",
   "execution_count": 48,
   "metadata": {},
   "outputs": [],
   "source": [
    "# most abundant tags\n",
    "category_dict = {'id':[], 'title':[], 'categories':[]}\n",
    "\n",
    "for gig_id in data.keys():\n",
    "    if(data[gig_id]['seller']['name'] != 'saifullahkhaki'):\n",
    "        category_dict['id'].append(gig_id)\n",
    "        category_dict['title'].append(data[gig_id]['title'])\n",
    "        if(data[gig_id]['options']['categories'][0] == 'Fiverr Pro'):\n",
    "            category_dict['categories'].append(data[gig_id]['options']['categories'][1:])\n",
    "        else:\n",
    "            category_dict['categories'].append(data[gig_id]['options']['categories'])\n",
    "    else:\n",
    "        break"
   ]
  },
  {
   "cell_type": "code",
   "execution_count": 49,
   "metadata": {},
   "outputs": [
    {
     "data": {
      "text/html": [
       "<div>\n",
       "<style scoped>\n",
       "    .dataframe tbody tr th:only-of-type {\n",
       "        vertical-align: middle;\n",
       "    }\n",
       "\n",
       "    .dataframe tbody tr th {\n",
       "        vertical-align: top;\n",
       "    }\n",
       "\n",
       "    .dataframe thead th {\n",
       "        text-align: right;\n",
       "    }\n",
       "</style>\n",
       "<table border=\"1\" class=\"dataframe\">\n",
       "  <thead>\n",
       "    <tr style=\"text-align: right;\">\n",
       "      <th></th>\n",
       "      <th>id</th>\n",
       "      <th>title</th>\n",
       "      <th>categories</th>\n",
       "    </tr>\n",
       "  </thead>\n",
       "  <tbody>\n",
       "    <tr>\n",
       "      <th>0</th>\n",
       "      <td>0</td>\n",
       "      <td>I will create a python flask api or project</td>\n",
       "      <td>[Programming &amp; Tech, Web Programming, Web Appl...</td>\n",
       "    </tr>\n",
       "    <tr>\n",
       "      <th>1</th>\n",
       "      <td>1</td>\n",
       "      <td>I will do django, flask, python web development</td>\n",
       "      <td>[Programming &amp; Tech, Website Development, Cust...</td>\n",
       "    </tr>\n",
       "    <tr>\n",
       "      <th>2</th>\n",
       "      <td>2</td>\n",
       "      <td>I will build data visualization dashboards usi...</td>\n",
       "      <td>[Data, Data Visualization, Dashboards]</td>\n",
       "    </tr>\n",
       "    <tr>\n",
       "      <th>3</th>\n",
       "      <td>3</td>\n",
       "      <td>I will develop and deploy python web app using...</td>\n",
       "      <td>[Programming &amp; Tech, Web Programming, Web Appl...</td>\n",
       "    </tr>\n",
       "    <tr>\n",
       "      <th>4</th>\n",
       "      <td>4</td>\n",
       "      <td>I will develop web app dashboard with python f...</td>\n",
       "      <td>[Programming &amp; Tech, Web Programming, Web Appl...</td>\n",
       "    </tr>\n",
       "    <tr>\n",
       "      <th>...</th>\n",
       "      <td>...</td>\n",
       "      <td>...</td>\n",
       "      <td>...</td>\n",
       "    </tr>\n",
       "    <tr>\n",
       "      <th>92</th>\n",
       "      <td>92</td>\n",
       "      <td>I will build backend, rest apis with python, d...</td>\n",
       "      <td>[Programming &amp; Tech, Web Programming, Web Appl...</td>\n",
       "    </tr>\n",
       "    <tr>\n",
       "      <th>93</th>\n",
       "      <td>93</td>\n",
       "      <td>I will develop web application with django and...</td>\n",
       "      <td>[Programming &amp; Tech, Web Programming, Web Appl...</td>\n",
       "    </tr>\n",
       "    <tr>\n",
       "      <th>94</th>\n",
       "      <td>94</td>\n",
       "      <td>I will develop web apps for you in django and ...</td>\n",
       "      <td>[Programming &amp; Tech, Website Development, Cust...</td>\n",
       "    </tr>\n",
       "    <tr>\n",
       "      <th>95</th>\n",
       "      <td>95</td>\n",
       "      <td>I will develop django flask web application or...</td>\n",
       "      <td>[Programming &amp; Tech, Web Programming, Web Appl...</td>\n",
       "    </tr>\n",
       "    <tr>\n",
       "      <th>96</th>\n",
       "      <td>96</td>\n",
       "      <td>I will develop web application in django flask...</td>\n",
       "      <td>[Programming &amp; Tech, Web Programming, Web Appl...</td>\n",
       "    </tr>\n",
       "  </tbody>\n",
       "</table>\n",
       "<p>97 rows × 3 columns</p>\n",
       "</div>"
      ],
      "text/plain": [
       "    id                                              title  \\\n",
       "0    0        I will create a python flask api or project   \n",
       "1    1    I will do django, flask, python web development   \n",
       "2    2  I will build data visualization dashboards usi...   \n",
       "3    3  I will develop and deploy python web app using...   \n",
       "4    4  I will develop web app dashboard with python f...   \n",
       "..  ..                                                ...   \n",
       "92  92  I will build backend, rest apis with python, d...   \n",
       "93  93  I will develop web application with django and...   \n",
       "94  94  I will develop web apps for you in django and ...   \n",
       "95  95  I will develop django flask web application or...   \n",
       "96  96  I will develop web application in django flask...   \n",
       "\n",
       "                                           categories  \n",
       "0   [Programming & Tech, Web Programming, Web Appl...  \n",
       "1   [Programming & Tech, Website Development, Cust...  \n",
       "2              [Data, Data Visualization, Dashboards]  \n",
       "3   [Programming & Tech, Web Programming, Web Appl...  \n",
       "4   [Programming & Tech, Web Programming, Web Appl...  \n",
       "..                                                ...  \n",
       "92  [Programming & Tech, Web Programming, Web Appl...  \n",
       "93  [Programming & Tech, Web Programming, Web Appl...  \n",
       "94  [Programming & Tech, Website Development, Cust...  \n",
       "95  [Programming & Tech, Web Programming, Web Appl...  \n",
       "96  [Programming & Tech, Web Programming, Web Appl...  \n",
       "\n",
       "[97 rows x 3 columns]"
      ]
     },
     "execution_count": 49,
     "metadata": {},
     "output_type": "execute_result"
    }
   ],
   "source": [
    "df = pd.DataFrame.from_dict(category_dict)\n",
    "df"
   ]
  },
  {
   "cell_type": "code",
   "execution_count": 62,
   "metadata": {},
   "outputs": [
    {
     "data": {
      "text/plain": [
       "[Programming & Tech, Web Programming, Web Application]        50\n",
       "[Programming & Tech, Website Development, Custom Websites]    18\n",
       "[Programming & Tech, Web Programming]                         11\n",
       "[Programming & Tech, Web Programming, Landing Page]            2\n",
       "[Programming & Tech, Support & IT]                             2\n",
       "Name: categories, dtype: int64"
      ]
     },
     "execution_count": 62,
     "metadata": {},
     "output_type": "execute_result"
    }
   ],
   "source": [
    "df['categories'].value_counts()[:5]"
   ]
  },
  {
   "attachments": {},
   "cell_type": "markdown",
   "metadata": {},
   "source": [
    "### Meta"
   ]
  },
  {
   "cell_type": "code",
   "execution_count": 70,
   "metadata": {},
   "outputs": [
    {
     "data": {
      "text/plain": [
       "['Web Programming',\n",
       " 'Website Development',\n",
       " 'Web Programming',\n",
       " 'Web Programming',\n",
       " 'Support & IT']"
      ]
     },
     "execution_count": 70,
     "metadata": {},
     "output_type": "execute_result"
    }
   ],
   "source": [
    "d2_categories = df['categories'].value_counts()[:5].index.tolist()\n",
    "meta_categories = []\n",
    "\n",
    "for category in d2_categories:\n",
    "    meta_categories.append(category[1])\n",
    "\n",
    "meta_categories"
   ]
  },
  {
   "cell_type": "code",
   "execution_count": 76,
   "metadata": {},
   "outputs": [],
   "source": [
    "# most abundant tags\n",
    "meta_dict = {'id':[], 'title':[], 'meta category':[], 'meta':[]}\n",
    "\n",
    "for gig_id in data.keys():\n",
    "    if(data[gig_id]['seller']['name'] != 'saifullahkhaki'):\n",
    "        meta_category = data[gig_id]['options']['categories'][1]\n",
    "        if meta_category in meta_categories:\n",
    "            meta_dict['id'].append(gig_id)\n",
    "            meta_dict['title'].append(data[gig_id]['title'])\n",
    "            meta_dict['meta category'].append(meta_category)\n",
    "            meta_dict['meta'].append(data[gig_id]['options']['meta'])\n",
    "    else:\n",
    "        break"
   ]
  },
  {
   "cell_type": "code",
   "execution_count": 77,
   "metadata": {},
   "outputs": [
    {
     "data": {
      "text/html": [
       "<div>\n",
       "<style scoped>\n",
       "    .dataframe tbody tr th:only-of-type {\n",
       "        vertical-align: middle;\n",
       "    }\n",
       "\n",
       "    .dataframe tbody tr th {\n",
       "        vertical-align: top;\n",
       "    }\n",
       "\n",
       "    .dataframe thead th {\n",
       "        text-align: right;\n",
       "    }\n",
       "</style>\n",
       "<table border=\"1\" class=\"dataframe\">\n",
       "  <thead>\n",
       "    <tr style=\"text-align: right;\">\n",
       "      <th></th>\n",
       "      <th>id</th>\n",
       "      <th>title</th>\n",
       "      <th>meta category</th>\n",
       "      <th>meta</th>\n",
       "    </tr>\n",
       "  </thead>\n",
       "  <tbody>\n",
       "    <tr>\n",
       "      <th>0</th>\n",
       "      <td>0</td>\n",
       "      <td>I will create a python flask api or project</td>\n",
       "      <td>Web Programming</td>\n",
       "      <td>{'Programming language': ['Python'], 'Expertis...</td>\n",
       "    </tr>\n",
       "    <tr>\n",
       "      <th>1</th>\n",
       "      <td>1</td>\n",
       "      <td>I will do django, flask, python web development</td>\n",
       "      <td>Website Development</td>\n",
       "      <td>{'Website type': ['Business'], 'Programming la...</td>\n",
       "    </tr>\n",
       "    <tr>\n",
       "      <th>2</th>\n",
       "      <td>3</td>\n",
       "      <td>I will develop and deploy python web app using...</td>\n",
       "      <td>Web Programming</td>\n",
       "      <td>{'Programming language': ['Python'], 'Expertis...</td>\n",
       "    </tr>\n",
       "    <tr>\n",
       "      <th>3</th>\n",
       "      <td>5</td>\n",
       "      <td>I will create your python flask web applicatio...</td>\n",
       "      <td>Web Programming</td>\n",
       "      <td>{}</td>\n",
       "    </tr>\n",
       "    <tr>\n",
       "      <th>4</th>\n",
       "      <td>6</td>\n",
       "      <td>I will develop web app or rest API using pytho...</td>\n",
       "      <td>Web Programming</td>\n",
       "      <td>{'Programming language': ['Python']}</td>\n",
       "    </tr>\n",
       "    <tr>\n",
       "      <th>...</th>\n",
       "      <td>...</td>\n",
       "      <td>...</td>\n",
       "      <td>...</td>\n",
       "      <td>...</td>\n",
       "    </tr>\n",
       "    <tr>\n",
       "      <th>78</th>\n",
       "      <td>92</td>\n",
       "      <td>I will build backend, rest apis with python, d...</td>\n",
       "      <td>Web Programming</td>\n",
       "      <td>{'Programming language': ['Python']}</td>\n",
       "    </tr>\n",
       "    <tr>\n",
       "      <th>79</th>\n",
       "      <td>93</td>\n",
       "      <td>I will develop web application with django and...</td>\n",
       "      <td>Web Programming</td>\n",
       "      <td>{'Programming language': ['Python'], 'Expertis...</td>\n",
       "    </tr>\n",
       "    <tr>\n",
       "      <th>80</th>\n",
       "      <td>94</td>\n",
       "      <td>I will develop web apps for you in django and ...</td>\n",
       "      <td>Website Development</td>\n",
       "      <td>{'Website type': ['Business'], 'Website featur...</td>\n",
       "    </tr>\n",
       "    <tr>\n",
       "      <th>81</th>\n",
       "      <td>95</td>\n",
       "      <td>I will develop django flask web application or...</td>\n",
       "      <td>Web Programming</td>\n",
       "      <td>{'Programming language': ['Python'], 'Expertis...</td>\n",
       "    </tr>\n",
       "    <tr>\n",
       "      <th>82</th>\n",
       "      <td>96</td>\n",
       "      <td>I will develop web application in django flask...</td>\n",
       "      <td>Web Programming</td>\n",
       "      <td>{'Programming language': ['Python'], 'Expertis...</td>\n",
       "    </tr>\n",
       "  </tbody>\n",
       "</table>\n",
       "<p>83 rows × 4 columns</p>\n",
       "</div>"
      ],
      "text/plain": [
       "    id                                              title  \\\n",
       "0    0        I will create a python flask api or project   \n",
       "1    1    I will do django, flask, python web development   \n",
       "2    3  I will develop and deploy python web app using...   \n",
       "3    5  I will create your python flask web applicatio...   \n",
       "4    6  I will develop web app or rest API using pytho...   \n",
       "..  ..                                                ...   \n",
       "78  92  I will build backend, rest apis with python, d...   \n",
       "79  93  I will develop web application with django and...   \n",
       "80  94  I will develop web apps for you in django and ...   \n",
       "81  95  I will develop django flask web application or...   \n",
       "82  96  I will develop web application in django flask...   \n",
       "\n",
       "          meta category                                               meta  \n",
       "0       Web Programming  {'Programming language': ['Python'], 'Expertis...  \n",
       "1   Website Development  {'Website type': ['Business'], 'Programming la...  \n",
       "2       Web Programming  {'Programming language': ['Python'], 'Expertis...  \n",
       "3       Web Programming                                                 {}  \n",
       "4       Web Programming               {'Programming language': ['Python']}  \n",
       "..                  ...                                                ...  \n",
       "78      Web Programming               {'Programming language': ['Python']}  \n",
       "79      Web Programming  {'Programming language': ['Python'], 'Expertis...  \n",
       "80  Website Development  {'Website type': ['Business'], 'Website featur...  \n",
       "81      Web Programming  {'Programming language': ['Python'], 'Expertis...  \n",
       "82      Web Programming  {'Programming language': ['Python'], 'Expertis...  \n",
       "\n",
       "[83 rows x 4 columns]"
      ]
     },
     "execution_count": 77,
     "metadata": {},
     "output_type": "execute_result"
    }
   ],
   "source": [
    "df = pd.DataFrame.from_dict(meta_dict)\n",
    "df"
   ]
  },
  {
   "cell_type": "code",
   "execution_count": 83,
   "metadata": {},
   "outputs": [],
   "source": [
    "keys = set()\n",
    "df['meta'].apply(lambda x: keys.update(x.keys()))\n",
    "\n",
    "# Creating new columns with the extracted keys\n",
    "for key in keys:\n",
    "    df[key] = df['meta'].apply(lambda x: x[key] if key in x else '')"
   ]
  },
  {
   "cell_type": "code",
   "execution_count": 85,
   "metadata": {},
   "outputs": [
    {
     "data": {
      "text/plain": [
       "{'Also delivering',\n",
       " 'Device',\n",
       " 'Expertise',\n",
       " 'Operating system',\n",
       " 'Programming language',\n",
       " 'Website features',\n",
       " 'Website type'}"
      ]
     },
     "execution_count": 85,
     "metadata": {},
     "output_type": "execute_result"
    }
   ],
   "source": [
    "keys"
   ]
  },
  {
   "cell_type": "code",
   "execution_count": 95,
   "metadata": {},
   "outputs": [
    {
     "name": "stdout",
     "output_type": "stream",
     "text": [
      "Programming language\n",
      "Python        64\n",
      "JavaScript    10\n",
      "HTML & CSS     7\n",
      "TypeScript     4\n",
      "Other          2\n",
      "Ruby/RoR       1\n",
      "ASP.NET        1\n",
      "PHP            1\n",
      "dtype: int64\n",
      "\n",
      "Website type\n",
      "Business        4\n",
      "Saas            2\n",
      "E-Commerce      1\n",
      "Landing page    1\n",
      "dtype: int64\n",
      "\n",
      "Expertise\n",
      "Performance                    17\n",
      "Cross browser compatibility    14\n",
      "Design                         13\n",
      "Security                       11\n",
      "PSD to HTML                    10\n",
      "Other                           4\n",
      "Localization                    2\n",
      "W3C validation                  1\n",
      "dtype: int64\n",
      "\n",
      "Website features\n",
      "Chat                8\n",
      "Payment             8\n",
      "Customer support    8\n",
      "Booking             7\n",
      "Social media        7\n",
      "Gallery             7\n",
      "Inventory           7\n",
      "Membership          7\n",
      "Marketing           7\n",
      "Map                 6\n",
      "Calendar            6\n",
      "Video               6\n",
      "Shipping            6\n",
      "Forum               6\n",
      "Music               5\n",
      "Events              5\n",
      "Analytics           5\n",
      "FAQ                 5\n",
      "Form                5\n",
      "dtype: int64\n",
      "\n",
      "Device\n",
      "Server/Hosting    1\n",
      "dtype: int64\n",
      "\n",
      "Operating system\n",
      "Linux/Unix    2\n",
      "dtype: int64\n",
      "\n",
      "Also delivering\n",
      "Remote connection support    2\n",
      "Documentation                1\n",
      "Package deal                 1\n",
      "Multiple revisions           1\n",
      "dtype: int64\n",
      "\n"
     ]
    }
   ],
   "source": [
    "for key in keys:\n",
    "    tags = df[key].apply(pd.Series).stack()\n",
    "    most_used_tags = tags.value_counts().drop('')\n",
    "    print(key)\n",
    "    print(most_used_tags)\n",
    "    print()"
   ]
  },
  {
   "cell_type": "code",
   "execution_count": null,
   "metadata": {},
   "outputs": [],
   "source": []
  }
 ],
 "metadata": {
  "kernelspec": {
   "display_name": "venv",
   "language": "python",
   "name": "python3"
  },
  "language_info": {
   "codemirror_mode": {
    "name": "ipython",
    "version": 3
   },
   "file_extension": ".py",
   "mimetype": "text/x-python",
   "name": "python",
   "nbconvert_exporter": "python",
   "pygments_lexer": "ipython3",
   "version": "3.10.8 (tags/v3.10.8:aaaf517, Oct 11 2022, 16:50:30) [MSC v.1933 64 bit (AMD64)]"
  },
  "orig_nbformat": 4,
  "vscode": {
   "interpreter": {
    "hash": "164b19ab77ab60dac0697b49ae478a84b20c7e957446c069f874cf8bb1e76573"
   }
  }
 },
 "nbformat": 4,
 "nbformat_minor": 2
}
